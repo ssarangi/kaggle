{
 "cells": [
  {
   "cell_type": "markdown",
   "metadata": {},
   "source": [
    "# Mercedes Benz"
   ]
  },
  {
   "cell_type": "code",
   "execution_count": 9,
   "metadata": {
    "collapsed": true
   },
   "outputs": [],
   "source": [
    "import pandas as pd\n",
    "import numpy as np\n",
    "\n",
    "import matplotlib\n",
    "import matplotlib.pyplot as plt\n",
    "\n",
    "matplotlib.style.use('ggplot')\n",
    "%matplotlib inline"
   ]
  },
  {
   "cell_type": "code",
   "execution_count": 10,
   "metadata": {
    "collapsed": true
   },
   "outputs": [],
   "source": [
    "train_file = 'training/train.csv'\n",
    "test_file = 'training/test.csv'\n",
    "\n",
    "train_df = pd.read_csv(train_file)\n",
    "test_df = pd.read_csv(test_file)"
   ]
  },
  {
   "cell_type": "code",
   "execution_count": 11,
   "metadata": {
    "collapsed": false
   },
   "outputs": [
    {
     "data": {
      "text/html": [
       "<div>\n",
       "<table border=\"1\" class=\"dataframe\">\n",
       "  <thead>\n",
       "    <tr style=\"text-align: right;\">\n",
       "      <th></th>\n",
       "      <th>ID</th>\n",
       "      <th>y</th>\n",
       "      <th>X0</th>\n",
       "      <th>X1</th>\n",
       "      <th>X2</th>\n",
       "      <th>X3</th>\n",
       "      <th>X4</th>\n",
       "      <th>X5</th>\n",
       "      <th>X6</th>\n",
       "      <th>X8</th>\n",
       "      <th>...</th>\n",
       "      <th>X375</th>\n",
       "      <th>X376</th>\n",
       "      <th>X377</th>\n",
       "      <th>X378</th>\n",
       "      <th>X379</th>\n",
       "      <th>X380</th>\n",
       "      <th>X382</th>\n",
       "      <th>X383</th>\n",
       "      <th>X384</th>\n",
       "      <th>X385</th>\n",
       "    </tr>\n",
       "  </thead>\n",
       "  <tbody>\n",
       "    <tr>\n",
       "      <th>0</th>\n",
       "      <td>0</td>\n",
       "      <td>130.81</td>\n",
       "      <td>k</td>\n",
       "      <td>v</td>\n",
       "      <td>at</td>\n",
       "      <td>a</td>\n",
       "      <td>d</td>\n",
       "      <td>u</td>\n",
       "      <td>j</td>\n",
       "      <td>o</td>\n",
       "      <td>...</td>\n",
       "      <td>0</td>\n",
       "      <td>0</td>\n",
       "      <td>1</td>\n",
       "      <td>0</td>\n",
       "      <td>0</td>\n",
       "      <td>0</td>\n",
       "      <td>0</td>\n",
       "      <td>0</td>\n",
       "      <td>0</td>\n",
       "      <td>0</td>\n",
       "    </tr>\n",
       "    <tr>\n",
       "      <th>1</th>\n",
       "      <td>6</td>\n",
       "      <td>88.53</td>\n",
       "      <td>k</td>\n",
       "      <td>t</td>\n",
       "      <td>av</td>\n",
       "      <td>e</td>\n",
       "      <td>d</td>\n",
       "      <td>y</td>\n",
       "      <td>l</td>\n",
       "      <td>o</td>\n",
       "      <td>...</td>\n",
       "      <td>1</td>\n",
       "      <td>0</td>\n",
       "      <td>0</td>\n",
       "      <td>0</td>\n",
       "      <td>0</td>\n",
       "      <td>0</td>\n",
       "      <td>0</td>\n",
       "      <td>0</td>\n",
       "      <td>0</td>\n",
       "      <td>0</td>\n",
       "    </tr>\n",
       "    <tr>\n",
       "      <th>2</th>\n",
       "      <td>7</td>\n",
       "      <td>76.26</td>\n",
       "      <td>az</td>\n",
       "      <td>w</td>\n",
       "      <td>n</td>\n",
       "      <td>c</td>\n",
       "      <td>d</td>\n",
       "      <td>x</td>\n",
       "      <td>j</td>\n",
       "      <td>x</td>\n",
       "      <td>...</td>\n",
       "      <td>0</td>\n",
       "      <td>0</td>\n",
       "      <td>0</td>\n",
       "      <td>0</td>\n",
       "      <td>0</td>\n",
       "      <td>0</td>\n",
       "      <td>1</td>\n",
       "      <td>0</td>\n",
       "      <td>0</td>\n",
       "      <td>0</td>\n",
       "    </tr>\n",
       "    <tr>\n",
       "      <th>3</th>\n",
       "      <td>9</td>\n",
       "      <td>80.62</td>\n",
       "      <td>az</td>\n",
       "      <td>t</td>\n",
       "      <td>n</td>\n",
       "      <td>f</td>\n",
       "      <td>d</td>\n",
       "      <td>x</td>\n",
       "      <td>l</td>\n",
       "      <td>e</td>\n",
       "      <td>...</td>\n",
       "      <td>0</td>\n",
       "      <td>0</td>\n",
       "      <td>0</td>\n",
       "      <td>0</td>\n",
       "      <td>0</td>\n",
       "      <td>0</td>\n",
       "      <td>0</td>\n",
       "      <td>0</td>\n",
       "      <td>0</td>\n",
       "      <td>0</td>\n",
       "    </tr>\n",
       "    <tr>\n",
       "      <th>4</th>\n",
       "      <td>13</td>\n",
       "      <td>78.02</td>\n",
       "      <td>az</td>\n",
       "      <td>v</td>\n",
       "      <td>n</td>\n",
       "      <td>f</td>\n",
       "      <td>d</td>\n",
       "      <td>h</td>\n",
       "      <td>d</td>\n",
       "      <td>n</td>\n",
       "      <td>...</td>\n",
       "      <td>0</td>\n",
       "      <td>0</td>\n",
       "      <td>0</td>\n",
       "      <td>0</td>\n",
       "      <td>0</td>\n",
       "      <td>0</td>\n",
       "      <td>0</td>\n",
       "      <td>0</td>\n",
       "      <td>0</td>\n",
       "      <td>0</td>\n",
       "    </tr>\n",
       "  </tbody>\n",
       "</table>\n",
       "<p>5 rows × 378 columns</p>\n",
       "</div>"
      ],
      "text/plain": [
       "   ID       y  X0 X1  X2 X3 X4 X5 X6 X8  ...   X375  X376  X377  X378  X379  \\\n",
       "0   0  130.81   k  v  at  a  d  u  j  o  ...      0     0     1     0     0   \n",
       "1   6   88.53   k  t  av  e  d  y  l  o  ...      1     0     0     0     0   \n",
       "2   7   76.26  az  w   n  c  d  x  j  x  ...      0     0     0     0     0   \n",
       "3   9   80.62  az  t   n  f  d  x  l  e  ...      0     0     0     0     0   \n",
       "4  13   78.02  az  v   n  f  d  h  d  n  ...      0     0     0     0     0   \n",
       "\n",
       "   X380  X382  X383  X384  X385  \n",
       "0     0     0     0     0     0  \n",
       "1     0     0     0     0     0  \n",
       "2     0     1     0     0     0  \n",
       "3     0     0     0     0     0  \n",
       "4     0     0     0     0     0  \n",
       "\n",
       "[5 rows x 378 columns]"
      ]
     },
     "execution_count": 11,
     "metadata": {},
     "output_type": "execute_result"
    }
   ],
   "source": [
    "train_df.head()"
   ]
  },
  {
   "cell_type": "code",
   "execution_count": 12,
   "metadata": {
    "collapsed": false
   },
   "outputs": [
    {
     "data": {
      "text/html": [
       "<div>\n",
       "<table border=\"1\" class=\"dataframe\">\n",
       "  <thead>\n",
       "    <tr style=\"text-align: right;\">\n",
       "      <th></th>\n",
       "      <th>ID</th>\n",
       "      <th>X0</th>\n",
       "      <th>X1</th>\n",
       "      <th>X2</th>\n",
       "      <th>X3</th>\n",
       "      <th>X4</th>\n",
       "      <th>X5</th>\n",
       "      <th>X6</th>\n",
       "      <th>X8</th>\n",
       "      <th>X10</th>\n",
       "      <th>...</th>\n",
       "      <th>X375</th>\n",
       "      <th>X376</th>\n",
       "      <th>X377</th>\n",
       "      <th>X378</th>\n",
       "      <th>X379</th>\n",
       "      <th>X380</th>\n",
       "      <th>X382</th>\n",
       "      <th>X383</th>\n",
       "      <th>X384</th>\n",
       "      <th>X385</th>\n",
       "    </tr>\n",
       "  </thead>\n",
       "  <tbody>\n",
       "    <tr>\n",
       "      <th>0</th>\n",
       "      <td>1</td>\n",
       "      <td>az</td>\n",
       "      <td>v</td>\n",
       "      <td>n</td>\n",
       "      <td>f</td>\n",
       "      <td>d</td>\n",
       "      <td>t</td>\n",
       "      <td>a</td>\n",
       "      <td>w</td>\n",
       "      <td>0</td>\n",
       "      <td>...</td>\n",
       "      <td>0</td>\n",
       "      <td>0</td>\n",
       "      <td>0</td>\n",
       "      <td>1</td>\n",
       "      <td>0</td>\n",
       "      <td>0</td>\n",
       "      <td>0</td>\n",
       "      <td>0</td>\n",
       "      <td>0</td>\n",
       "      <td>0</td>\n",
       "    </tr>\n",
       "    <tr>\n",
       "      <th>1</th>\n",
       "      <td>2</td>\n",
       "      <td>t</td>\n",
       "      <td>b</td>\n",
       "      <td>ai</td>\n",
       "      <td>a</td>\n",
       "      <td>d</td>\n",
       "      <td>b</td>\n",
       "      <td>g</td>\n",
       "      <td>y</td>\n",
       "      <td>0</td>\n",
       "      <td>...</td>\n",
       "      <td>0</td>\n",
       "      <td>0</td>\n",
       "      <td>1</td>\n",
       "      <td>0</td>\n",
       "      <td>0</td>\n",
       "      <td>0</td>\n",
       "      <td>0</td>\n",
       "      <td>0</td>\n",
       "      <td>0</td>\n",
       "      <td>0</td>\n",
       "    </tr>\n",
       "    <tr>\n",
       "      <th>2</th>\n",
       "      <td>3</td>\n",
       "      <td>az</td>\n",
       "      <td>v</td>\n",
       "      <td>as</td>\n",
       "      <td>f</td>\n",
       "      <td>d</td>\n",
       "      <td>a</td>\n",
       "      <td>j</td>\n",
       "      <td>j</td>\n",
       "      <td>0</td>\n",
       "      <td>...</td>\n",
       "      <td>0</td>\n",
       "      <td>0</td>\n",
       "      <td>0</td>\n",
       "      <td>1</td>\n",
       "      <td>0</td>\n",
       "      <td>0</td>\n",
       "      <td>0</td>\n",
       "      <td>0</td>\n",
       "      <td>0</td>\n",
       "      <td>0</td>\n",
       "    </tr>\n",
       "    <tr>\n",
       "      <th>3</th>\n",
       "      <td>4</td>\n",
       "      <td>az</td>\n",
       "      <td>l</td>\n",
       "      <td>n</td>\n",
       "      <td>f</td>\n",
       "      <td>d</td>\n",
       "      <td>z</td>\n",
       "      <td>l</td>\n",
       "      <td>n</td>\n",
       "      <td>0</td>\n",
       "      <td>...</td>\n",
       "      <td>0</td>\n",
       "      <td>0</td>\n",
       "      <td>0</td>\n",
       "      <td>1</td>\n",
       "      <td>0</td>\n",
       "      <td>0</td>\n",
       "      <td>0</td>\n",
       "      <td>0</td>\n",
       "      <td>0</td>\n",
       "      <td>0</td>\n",
       "    </tr>\n",
       "    <tr>\n",
       "      <th>4</th>\n",
       "      <td>5</td>\n",
       "      <td>w</td>\n",
       "      <td>s</td>\n",
       "      <td>as</td>\n",
       "      <td>c</td>\n",
       "      <td>d</td>\n",
       "      <td>y</td>\n",
       "      <td>i</td>\n",
       "      <td>m</td>\n",
       "      <td>0</td>\n",
       "      <td>...</td>\n",
       "      <td>1</td>\n",
       "      <td>0</td>\n",
       "      <td>0</td>\n",
       "      <td>0</td>\n",
       "      <td>0</td>\n",
       "      <td>0</td>\n",
       "      <td>0</td>\n",
       "      <td>0</td>\n",
       "      <td>0</td>\n",
       "      <td>0</td>\n",
       "    </tr>\n",
       "  </tbody>\n",
       "</table>\n",
       "<p>5 rows × 377 columns</p>\n",
       "</div>"
      ],
      "text/plain": [
       "   ID  X0 X1  X2 X3 X4 X5 X6 X8  X10  ...   X375  X376  X377  X378  X379  \\\n",
       "0   1  az  v   n  f  d  t  a  w    0  ...      0     0     0     1     0   \n",
       "1   2   t  b  ai  a  d  b  g  y    0  ...      0     0     1     0     0   \n",
       "2   3  az  v  as  f  d  a  j  j    0  ...      0     0     0     1     0   \n",
       "3   4  az  l   n  f  d  z  l  n    0  ...      0     0     0     1     0   \n",
       "4   5   w  s  as  c  d  y  i  m    0  ...      1     0     0     0     0   \n",
       "\n",
       "   X380  X382  X383  X384  X385  \n",
       "0     0     0     0     0     0  \n",
       "1     0     0     0     0     0  \n",
       "2     0     0     0     0     0  \n",
       "3     0     0     0     0     0  \n",
       "4     0     0     0     0     0  \n",
       "\n",
       "[5 rows x 377 columns]"
      ]
     },
     "execution_count": 12,
     "metadata": {},
     "output_type": "execute_result"
    }
   ],
   "source": [
    "test_df.head()"
   ]
  },
  {
   "cell_type": "code",
   "execution_count": 46,
   "metadata": {
    "collapsed": false
   },
   "outputs": [],
   "source": [
    "from sklearn.preprocessing import LabelEncoder\n",
    "from keras.models import Sequential\n",
    "from keras.layers import Dense\n",
    "from keras.wrappers.scikit_learn import KerasRegressor\n",
    "from keras.callbacks import ModelCheckpoint\n",
    "from keras_tqdm import TQDMNotebookCallback\n",
    "\n",
    "# To evaluate models using cross-validation\n",
    "from sklearn.model_selection import cross_val_score\n",
    "from sklearn.model_selection import KFold\n",
    "# To perform data preparation in order to improve skill with Keras models\n",
    "from sklearn.preprocessing import StandardScaler\n",
    "from sklearn.pipeline import Pipeline\n",
    "# Ensemble\n",
    "from sklearn.ensemble import RandomForestRegressor\n",
    "# Feature Selection\n",
    "from sklearn.feature_selection import SelectFromModel\n",
    "from sklearn.model_selection import train_test_split\n",
    "import pickle"
   ]
  },
  {
   "cell_type": "code",
   "execution_count": 47,
   "metadata": {
    "collapsed": false
   },
   "outputs": [],
   "source": [
    "for c in train_df.columns:\n",
    "    if train_df[c].dtype == 'object':\n",
    "        lbl = LabelEncoder() \n",
    "        lbl.fit(list(train_df[c].values)) \n",
    "        train_df[c] = lbl.transform(list(train_df[c].values))\n",
    "        \n",
    "for c in test_df.columns:\n",
    "    if test_df[c].dtype == 'object':\n",
    "        lbl = LabelEncoder() \n",
    "        lbl.fit(list(test_df[c].values)) \n",
    "        test_df[c] = lbl.transform(list(test_df[c].values))"
   ]
  },
  {
   "cell_type": "code",
   "execution_count": null,
   "metadata": {
    "collapsed": false
   },
   "outputs": [
    {
     "name": "stdout",
     "output_type": "stream",
     "text": [
      "Epoch 1/500\n",
      "4209/4209 [==============================] - 3s - loss: 738.4870     \n",
      "Epoch 2/500\n",
      "4209/4209 [==============================] - 2s - loss: 88.0662     \n",
      "Epoch 3/500\n",
      "4209/4209 [==============================] - 2s - loss: 83.6828     \n",
      "Epoch 4/500\n",
      "4209/4209 [==============================] - 2s - loss: 81.8894     \n",
      "Epoch 5/500\n",
      "4209/4209 [==============================] - 2s - loss: 82.2909     \n",
      "Epoch 6/500\n",
      "4209/4209 [==============================] - 2s - loss: 79.1451     \n",
      "Epoch 7/500\n",
      "4209/4209 [==============================] - 2s - loss: 78.1143     \n",
      "Epoch 8/500\n",
      "4209/4209 [==============================] - 2s - loss: 78.2467     \n",
      "Epoch 9/500\n",
      "4209/4209 [==============================] - 2s - loss: 77.3024     \n",
      "Epoch 10/500\n",
      "4209/4209 [==============================] - 2s - loss: 74.4158     \n",
      "Epoch 11/500\n",
      "4209/4209 [==============================] - 2s - loss: 75.0738     \n",
      "Epoch 12/500\n",
      "4209/4209 [==============================] - 2s - loss: 76.3576     \n",
      "Epoch 13/500\n",
      "4209/4209 [==============================] - 2s - loss: 73.4657     \n",
      "Epoch 14/500\n",
      "4209/4209 [==============================] - 2s - loss: 73.7862     \n",
      "Epoch 15/500\n",
      "4209/4209 [==============================] - 2s - loss: 73.6602     \n",
      "Epoch 16/500\n",
      "4209/4209 [==============================] - 2s - loss: 73.5086     \n",
      "Epoch 17/500\n",
      "4209/4209 [==============================] - 2s - loss: 75.1853     \n",
      "Epoch 18/500\n",
      "4209/4209 [==============================] - 2s - loss: 73.5393     \n",
      "Epoch 19/500\n",
      "4209/4209 [==============================] - 2s - loss: 71.6637     \n",
      "Epoch 20/500\n",
      "4209/4209 [==============================] - 2s - loss: 71.9460     \n",
      "Epoch 21/500\n",
      "4209/4209 [==============================] - 2s - loss: 70.3788     \n",
      "Epoch 22/500\n",
      "4209/4209 [==============================] - 2s - loss: 72.9215     \n",
      "Epoch 23/500\n",
      "4209/4209 [==============================] - 2s - loss: 71.1005     \n",
      "Epoch 24/500\n",
      "4209/4209 [==============================] - 2s - loss: 71.1935     \n",
      "Epoch 25/500\n",
      "4209/4209 [==============================] - 2s - loss: 69.9572     \n",
      "Epoch 26/500\n",
      "4209/4209 [==============================] - 2s - loss: 70.0117     \n",
      "Epoch 27/500\n",
      "4209/4209 [==============================] - 2s - loss: 69.6121     \n",
      "Epoch 28/500\n",
      "4209/4209 [==============================] - 2s - loss: 68.7299     \n",
      "Epoch 29/500\n",
      "4209/4209 [==============================] - 2s - loss: 66.7909     \n",
      "Epoch 30/500\n",
      "4209/4209 [==============================] - 2s - loss: 67.6640     \n",
      "Epoch 31/500\n",
      "4209/4209 [==============================] - 2s - loss: 68.3619     \n",
      "Epoch 32/500\n",
      "4209/4209 [==============================] - 2s - loss: 67.8859     \n",
      "Epoch 33/500\n",
      "1410/4209 [=========>....................] - ETA: 1s - loss: 53.7664"
     ]
    }
   ],
   "source": [
    "# define base model\n",
    "def simple_model():\n",
    "    # create model\n",
    "    # Topology 13 inputs -> [13 -> 6] -> 1 output\n",
    "    model = Sequential()\n",
    "    model.add(Dense(376, input_dim=376, kernel_initializer='normal', activation='relu'))\n",
    "    model.add(Dense(36, kernel_initializer='normal', activation='relu'))\n",
    "    model.add(Dense(6, kernel_initializer='normal', activation='relu'))\n",
    "    model.add(Dense(1, kernel_initializer='normal'))\n",
    "    # Compile model\n",
    "    model.compile(loss='mean_squared_error', optimizer='adam')\n",
    "    return model\n",
    "\n",
    "id_test = test_df['ID']\n",
    "test_noID = test_df.drop(\"ID\", axis=1).copy()\n",
    "\n",
    "# fix random seed for reproducibility\n",
    "seed = 7\n",
    "np.random.seed(seed)\n",
    "# model = simple_model()\n",
    "estimator = KerasRegressor(build_fn=simple_model, epochs=500, batch_size=5, verbose=1)\n",
    "\n",
    "\n",
    "# Numpy representation of NDFrame\n",
    "dataset = train_df.values\n",
    "# split into input (X) and output (Y) variables\n",
    "X = dataset[:,2:378]\n",
    "Y = dataset[:,1]\n",
    "\n",
    "datasetTest = test_noID.values\n",
    "# split into input (X) and output (Y) variables\n",
    "X_test = datasetTest[:,0:376]\n",
    "\n",
    "trainData, testData, trainLabels, testLabels = train_test_split(X, Y, random_state=20)\n",
    "\n",
    "filepath = \"simple.h5\"\n",
    "checkpoint = ModelCheckpoint(filepath, monitor='val_acc', verbose=1, save_best_only=True, mode='max')\n",
    "\n",
    "# model.fit(X, Y,\n",
    "#           epochs=500,\n",
    "#           batch_size=5,\n",
    "#           verbose=0,\n",
    "#           callbacks=[TQDMNotebookCallback()])\n",
    "\n",
    "estimator.fit(X,Y)\n",
    "res = estimator.predict(X_test)\n",
    "\n",
    "estimator.model.save('simple.h5')"
   ]
  },
  {
   "cell_type": "code",
   "execution_count": 51,
   "metadata": {
    "collapsed": true
   },
   "outputs": [],
   "source": [
    "from keras.models import load_model"
   ]
  },
  {
   "cell_type": "code",
   "execution_count": 52,
   "metadata": {
    "collapsed": false
   },
   "outputs": [
    {
     "ename": "Exception",
     "evalue": "Data must be 1-dimensional",
     "output_type": "error",
     "traceback": [
      "\u001b[0;31m---------------------------------------------------------------------------\u001b[0m",
      "\u001b[0;31mException\u001b[0m                                 Traceback (most recent call last)",
      "\u001b[0;32m<ipython-input-52-25104f9ccbde>\u001b[0m in \u001b[0;36m<module>\u001b[0;34m()\u001b[0m\n\u001b[1;32m      1\u001b[0m \u001b[0mmodel\u001b[0m \u001b[0;34m=\u001b[0m \u001b[0mload_model\u001b[0m\u001b[0;34m(\u001b[0m\u001b[0;34m'simple.h5'\u001b[0m\u001b[0;34m)\u001b[0m\u001b[0;34m\u001b[0m\u001b[0m\n\u001b[1;32m      2\u001b[0m \u001b[0mres\u001b[0m \u001b[0;34m=\u001b[0m \u001b[0mmodel\u001b[0m\u001b[0;34m.\u001b[0m\u001b[0mpredict\u001b[0m\u001b[0;34m(\u001b[0m\u001b[0mX_test\u001b[0m\u001b[0;34m)\u001b[0m\u001b[0;34m\u001b[0m\u001b[0m\n\u001b[0;32m----> 3\u001b[0;31m \u001b[0moutput\u001b[0m \u001b[0;34m=\u001b[0m \u001b[0mpd\u001b[0m\u001b[0;34m.\u001b[0m\u001b[0mDataFrame\u001b[0m\u001b[0;34m(\u001b[0m\u001b[0;34m{\u001b[0m\u001b[0;34m'id'\u001b[0m\u001b[0;34m:\u001b[0m \u001b[0mid_test\u001b[0m\u001b[0;34m,\u001b[0m \u001b[0;34m'y'\u001b[0m\u001b[0;34m:\u001b[0m \u001b[0mres\u001b[0m\u001b[0;34m}\u001b[0m\u001b[0;34m)\u001b[0m\u001b[0;34m\u001b[0m\u001b[0m\n\u001b[0m\u001b[1;32m      4\u001b[0m \u001b[0moutput\u001b[0m\u001b[0;34m.\u001b[0m\u001b[0mto_csv\u001b[0m\u001b[0;34m(\u001b[0m\u001b[0;34m'preds.csv'\u001b[0m\u001b[0;34m,\u001b[0m \u001b[0mindex\u001b[0m\u001b[0;34m=\u001b[0m\u001b[0;32mFalse\u001b[0m\u001b[0;34m)\u001b[0m\u001b[0;34m\u001b[0m\u001b[0m\n",
      "\u001b[0;32m/Users/satyajits/anaconda/lib/python3.5/site-packages/pandas/core/frame.py\u001b[0m in \u001b[0;36m__init__\u001b[0;34m(self, data, index, columns, dtype, copy)\u001b[0m\n\u001b[1;32m    222\u001b[0m                                  dtype=dtype, copy=copy)\n\u001b[1;32m    223\u001b[0m         \u001b[0;32melif\u001b[0m \u001b[0misinstance\u001b[0m\u001b[0;34m(\u001b[0m\u001b[0mdata\u001b[0m\u001b[0;34m,\u001b[0m \u001b[0mdict\u001b[0m\u001b[0;34m)\u001b[0m\u001b[0;34m:\u001b[0m\u001b[0;34m\u001b[0m\u001b[0m\n\u001b[0;32m--> 224\u001b[0;31m             \u001b[0mmgr\u001b[0m \u001b[0;34m=\u001b[0m \u001b[0mself\u001b[0m\u001b[0;34m.\u001b[0m\u001b[0m_init_dict\u001b[0m\u001b[0;34m(\u001b[0m\u001b[0mdata\u001b[0m\u001b[0;34m,\u001b[0m \u001b[0mindex\u001b[0m\u001b[0;34m,\u001b[0m \u001b[0mcolumns\u001b[0m\u001b[0;34m,\u001b[0m \u001b[0mdtype\u001b[0m\u001b[0;34m=\u001b[0m\u001b[0mdtype\u001b[0m\u001b[0;34m)\u001b[0m\u001b[0;34m\u001b[0m\u001b[0m\n\u001b[0m\u001b[1;32m    225\u001b[0m         \u001b[0;32melif\u001b[0m \u001b[0misinstance\u001b[0m\u001b[0;34m(\u001b[0m\u001b[0mdata\u001b[0m\u001b[0;34m,\u001b[0m \u001b[0mma\u001b[0m\u001b[0;34m.\u001b[0m\u001b[0mMaskedArray\u001b[0m\u001b[0;34m)\u001b[0m\u001b[0;34m:\u001b[0m\u001b[0;34m\u001b[0m\u001b[0m\n\u001b[1;32m    226\u001b[0m             \u001b[0;32mimport\u001b[0m \u001b[0mnumpy\u001b[0m\u001b[0;34m.\u001b[0m\u001b[0mma\u001b[0m\u001b[0;34m.\u001b[0m\u001b[0mmrecords\u001b[0m \u001b[0;32mas\u001b[0m \u001b[0mmrecords\u001b[0m\u001b[0;34m\u001b[0m\u001b[0m\n",
      "\u001b[0;32m/Users/satyajits/anaconda/lib/python3.5/site-packages/pandas/core/frame.py\u001b[0m in \u001b[0;36m_init_dict\u001b[0;34m(self, data, index, columns, dtype)\u001b[0m\n\u001b[1;32m    358\u001b[0m             \u001b[0marrays\u001b[0m \u001b[0;34m=\u001b[0m \u001b[0;34m[\u001b[0m\u001b[0mdata\u001b[0m\u001b[0;34m[\u001b[0m\u001b[0mk\u001b[0m\u001b[0;34m]\u001b[0m \u001b[0;32mfor\u001b[0m \u001b[0mk\u001b[0m \u001b[0;32min\u001b[0m \u001b[0mkeys\u001b[0m\u001b[0;34m]\u001b[0m\u001b[0;34m\u001b[0m\u001b[0m\n\u001b[1;32m    359\u001b[0m \u001b[0;34m\u001b[0m\u001b[0m\n\u001b[0;32m--> 360\u001b[0;31m         \u001b[0;32mreturn\u001b[0m \u001b[0m_arrays_to_mgr\u001b[0m\u001b[0;34m(\u001b[0m\u001b[0marrays\u001b[0m\u001b[0;34m,\u001b[0m \u001b[0mdata_names\u001b[0m\u001b[0;34m,\u001b[0m \u001b[0mindex\u001b[0m\u001b[0;34m,\u001b[0m \u001b[0mcolumns\u001b[0m\u001b[0;34m,\u001b[0m \u001b[0mdtype\u001b[0m\u001b[0;34m=\u001b[0m\u001b[0mdtype\u001b[0m\u001b[0;34m)\u001b[0m\u001b[0;34m\u001b[0m\u001b[0m\n\u001b[0m\u001b[1;32m    361\u001b[0m \u001b[0;34m\u001b[0m\u001b[0m\n\u001b[1;32m    362\u001b[0m     \u001b[0;32mdef\u001b[0m \u001b[0m_init_ndarray\u001b[0m\u001b[0;34m(\u001b[0m\u001b[0mself\u001b[0m\u001b[0;34m,\u001b[0m \u001b[0mvalues\u001b[0m\u001b[0;34m,\u001b[0m \u001b[0mindex\u001b[0m\u001b[0;34m,\u001b[0m \u001b[0mcolumns\u001b[0m\u001b[0;34m,\u001b[0m \u001b[0mdtype\u001b[0m\u001b[0;34m=\u001b[0m\u001b[0;32mNone\u001b[0m\u001b[0;34m,\u001b[0m \u001b[0mcopy\u001b[0m\u001b[0;34m=\u001b[0m\u001b[0;32mFalse\u001b[0m\u001b[0;34m)\u001b[0m\u001b[0;34m:\u001b[0m\u001b[0;34m\u001b[0m\u001b[0m\n",
      "\u001b[0;32m/Users/satyajits/anaconda/lib/python3.5/site-packages/pandas/core/frame.py\u001b[0m in \u001b[0;36m_arrays_to_mgr\u001b[0;34m(arrays, arr_names, index, columns, dtype)\u001b[0m\n\u001b[1;32m   5234\u001b[0m \u001b[0;34m\u001b[0m\u001b[0m\n\u001b[1;32m   5235\u001b[0m     \u001b[0;31m# don't force copy because getting jammed in an ndarray anyway\u001b[0m\u001b[0;34m\u001b[0m\u001b[0;34m\u001b[0m\u001b[0m\n\u001b[0;32m-> 5236\u001b[0;31m     \u001b[0marrays\u001b[0m \u001b[0;34m=\u001b[0m \u001b[0m_homogenize\u001b[0m\u001b[0;34m(\u001b[0m\u001b[0marrays\u001b[0m\u001b[0;34m,\u001b[0m \u001b[0mindex\u001b[0m\u001b[0;34m,\u001b[0m \u001b[0mdtype\u001b[0m\u001b[0;34m)\u001b[0m\u001b[0;34m\u001b[0m\u001b[0m\n\u001b[0m\u001b[1;32m   5237\u001b[0m \u001b[0;34m\u001b[0m\u001b[0m\n\u001b[1;32m   5238\u001b[0m     \u001b[0;31m# from BlockManager perspective\u001b[0m\u001b[0;34m\u001b[0m\u001b[0;34m\u001b[0m\u001b[0m\n",
      "\u001b[0;32m/Users/satyajits/anaconda/lib/python3.5/site-packages/pandas/core/frame.py\u001b[0m in \u001b[0;36m_homogenize\u001b[0;34m(data, index, dtype)\u001b[0m\n\u001b[1;32m   5544\u001b[0m                 \u001b[0mv\u001b[0m \u001b[0;34m=\u001b[0m \u001b[0mlib\u001b[0m\u001b[0;34m.\u001b[0m\u001b[0mfast_multiget\u001b[0m\u001b[0;34m(\u001b[0m\u001b[0mv\u001b[0m\u001b[0;34m,\u001b[0m \u001b[0moindex\u001b[0m\u001b[0;34m.\u001b[0m\u001b[0mvalues\u001b[0m\u001b[0;34m,\u001b[0m \u001b[0mdefault\u001b[0m\u001b[0;34m=\u001b[0m\u001b[0mNA\u001b[0m\u001b[0;34m)\u001b[0m\u001b[0;34m\u001b[0m\u001b[0m\n\u001b[1;32m   5545\u001b[0m             v = _sanitize_array(v, index, dtype=dtype, copy=False,\n\u001b[0;32m-> 5546\u001b[0;31m                                 raise_cast_failure=False)\n\u001b[0m\u001b[1;32m   5547\u001b[0m \u001b[0;34m\u001b[0m\u001b[0m\n\u001b[1;32m   5548\u001b[0m         \u001b[0mhomogenized\u001b[0m\u001b[0;34m.\u001b[0m\u001b[0mappend\u001b[0m\u001b[0;34m(\u001b[0m\u001b[0mv\u001b[0m\u001b[0;34m)\u001b[0m\u001b[0;34m\u001b[0m\u001b[0m\n",
      "\u001b[0;32m/Users/satyajits/anaconda/lib/python3.5/site-packages/pandas/core/series.py\u001b[0m in \u001b[0;36m_sanitize_array\u001b[0;34m(data, index, dtype, copy, raise_cast_failure)\u001b[0m\n\u001b[1;32m   2918\u001b[0m     \u001b[0;32melif\u001b[0m \u001b[0msubarr\u001b[0m\u001b[0;34m.\u001b[0m\u001b[0mndim\u001b[0m \u001b[0;34m>\u001b[0m \u001b[0;36m1\u001b[0m\u001b[0;34m:\u001b[0m\u001b[0;34m\u001b[0m\u001b[0m\n\u001b[1;32m   2919\u001b[0m         \u001b[0;32mif\u001b[0m \u001b[0misinstance\u001b[0m\u001b[0;34m(\u001b[0m\u001b[0mdata\u001b[0m\u001b[0;34m,\u001b[0m \u001b[0mnp\u001b[0m\u001b[0;34m.\u001b[0m\u001b[0mndarray\u001b[0m\u001b[0;34m)\u001b[0m\u001b[0;34m:\u001b[0m\u001b[0;34m\u001b[0m\u001b[0m\n\u001b[0;32m-> 2920\u001b[0;31m             \u001b[0;32mraise\u001b[0m \u001b[0mException\u001b[0m\u001b[0;34m(\u001b[0m\u001b[0;34m'Data must be 1-dimensional'\u001b[0m\u001b[0;34m)\u001b[0m\u001b[0;34m\u001b[0m\u001b[0m\n\u001b[0m\u001b[1;32m   2921\u001b[0m         \u001b[0;32melse\u001b[0m\u001b[0;34m:\u001b[0m\u001b[0;34m\u001b[0m\u001b[0m\n\u001b[1;32m   2922\u001b[0m             \u001b[0msubarr\u001b[0m \u001b[0;34m=\u001b[0m \u001b[0m_asarray_tuplesafe\u001b[0m\u001b[0;34m(\u001b[0m\u001b[0mdata\u001b[0m\u001b[0;34m,\u001b[0m \u001b[0mdtype\u001b[0m\u001b[0;34m=\u001b[0m\u001b[0mdtype\u001b[0m\u001b[0;34m)\u001b[0m\u001b[0;34m\u001b[0m\u001b[0m\n",
      "\u001b[0;31mException\u001b[0m: Data must be 1-dimensional"
     ]
    }
   ],
   "source": [
    "# model = load_model('simple.h5')\n",
    "res = estimator.predict(X_test)\n",
    "output = pd.DataFrame({'id': id_test, 'y': res})\n",
    "output.to_csv('preds.csv', index=False)"
   ]
  },
  {
   "cell_type": "code",
   "execution_count": 31,
   "metadata": {
    "collapsed": false
   },
   "outputs": [
    {
     "data": {
      "text/plain": [
       "89.0"
      ]
     },
     "execution_count": 31,
     "metadata": {},
     "output_type": "execute_result"
    }
   ],
   "source": [
    "output.head()"
   ]
  },
  {
   "cell_type": "code",
   "execution_count": null,
   "metadata": {
    "collapsed": true
   },
   "outputs": [],
   "source": []
  }
 ],
 "metadata": {
  "anaconda-cloud": {},
  "kernelspec": {
   "display_name": "Python [conda root]",
   "language": "python",
   "name": "conda-root-py"
  },
  "language_info": {
   "codemirror_mode": {
    "name": "ipython",
    "version": 3
   },
   "file_extension": ".py",
   "mimetype": "text/x-python",
   "name": "python",
   "nbconvert_exporter": "python",
   "pygments_lexer": "ipython3",
   "version": "3.5.2"
  },
  "widgets": {
   "state": {
    "0621c3e45cff41df8f779212f1c8ecd1": {
     "views": [
      {
       "cell_index": 7
      }
     ]
    },
    "0771d755a79e42f08740b3d8f1c64088": {
     "views": [
      {
       "cell_index": 7
      }
     ]
    },
    "0d6fd0b732d14993873323c822f4b3af": {
     "views": [
      {
       "cell_index": 7
      }
     ]
    },
    "0e0822a0d25748828f645f0d97fca71e": {
     "views": [
      {
       "cell_index": 7
      }
     ]
    },
    "11a2249c61d04faba2723bbb3069f842": {
     "views": [
      {
       "cell_index": 7
      }
     ]
    },
    "11f50c5b5bbe48aab54e800ab6727f88": {
     "views": [
      {
       "cell_index": 7
      }
     ]
    },
    "1734b4ffdb824c63b00378e38d508378": {
     "views": [
      {
       "cell_index": 7
      }
     ]
    },
    "1b5a39a418144005a2478ada890f272c": {
     "views": [
      {
       "cell_index": 7
      }
     ]
    },
    "2531d644c03541408f5fc7f3d90a6a97": {
     "views": [
      {
       "cell_index": 7
      }
     ]
    },
    "29aa98f986d64777b71ecee85cfc2de9": {
     "views": [
      {
       "cell_index": 7
      }
     ]
    },
    "2be61b4c97dc4da38dd5f32c465dffd9": {
     "views": [
      {
       "cell_index": 7
      }
     ]
    },
    "31608342c69148dba6f6de914ed7ff3f": {
     "views": [
      {
       "cell_index": 7
      }
     ]
    },
    "362309f2c46d4acd8d8304066f98f461": {
     "views": [
      {
       "cell_index": 7
      }
     ]
    },
    "38b7cf54ad3441268a79fa23951ef4d8": {
     "views": [
      {
       "cell_index": 7
      }
     ]
    },
    "3b6bcb44c0974c05823fe8cce5113bfd": {
     "views": [
      {
       "cell_index": 7
      }
     ]
    },
    "3d1a0a1a17154b719708d1112915fc60": {
     "views": [
      {
       "cell_index": 7
      }
     ]
    },
    "40d44aa2b03441e5bef79fd406f6cc96": {
     "views": [
      {
       "cell_index": 7
      }
     ]
    },
    "46b63ad061b54f84a747274344a9e0cd": {
     "views": [
      {
       "cell_index": 7
      }
     ]
    },
    "487bb54d297d4599aa8ad7e48793717f": {
     "views": [
      {
       "cell_index": 7
      }
     ]
    },
    "4f5286807fe1482db6e3e61523bc37b6": {
     "views": [
      {
       "cell_index": 7
      }
     ]
    },
    "4fc69885fcaf4a6f869a3f153854ece3": {
     "views": [
      {
       "cell_index": 7
      }
     ]
    },
    "52f3ccdad2ca44fb80e4d2c653811a54": {
     "views": [
      {
       "cell_index": 7
      }
     ]
    },
    "5306614ced8f4737a5dde988608759e4": {
     "views": [
      {
       "cell_index": 7
      }
     ]
    },
    "533c1197e5d647c294220f914ac9e7a0": {
     "views": [
      {
       "cell_index": 7
      }
     ]
    },
    "5996ace087244e3f99d78f5c05eef45e": {
     "views": [
      {
       "cell_index": 7
      }
     ]
    },
    "5a700d69f22a4a709a9e7688098663af": {
     "views": [
      {
       "cell_index": 7
      }
     ]
    },
    "5f95d3e4e7734eac8b9982c5fc6cb032": {
     "views": [
      {
       "cell_index": 7
      }
     ]
    },
    "5fca416ded4a4a1ca024bb2a0d986d4b": {
     "views": [
      {
       "cell_index": 7
      }
     ]
    },
    "5fe5ef2efd8d4c7890dc39eba317df13": {
     "views": [
      {
       "cell_index": 7
      }
     ]
    },
    "604bb95e88244fd78bdbc3e2f2eb1ed4": {
     "views": [
      {
       "cell_index": 7
      }
     ]
    },
    "6135d75fa82d42c180cc34264af16aa9": {
     "views": [
      {
       "cell_index": 7
      }
     ]
    },
    "624e209eb10f403594b913eb15b6ec67": {
     "views": [
      {
       "cell_index": 7
      }
     ]
    },
    "633ba569c0274d96ae3b7d609182945e": {
     "views": [
      {
       "cell_index": 7
      }
     ]
    },
    "6d080dc012f54c42910ca62945c99ba0": {
     "views": [
      {
       "cell_index": 7
      }
     ]
    },
    "6d1e129f8e0548529e35df9ec0fdb0dd": {
     "views": [
      {
       "cell_index": 7
      }
     ]
    },
    "6e8412cd8bef4e3bb2f0c52e8a620f68": {
     "views": [
      {
       "cell_index": 7
      }
     ]
    },
    "6ee64c70cadd4d7eb49b10f9d71bc470": {
     "views": [
      {
       "cell_index": 7
      }
     ]
    },
    "756d3a2a2f52483e8eab4ce8503c6e65": {
     "views": [
      {
       "cell_index": 7
      }
     ]
    },
    "7711fe89a91a4b54bba12591036c5264": {
     "views": [
      {
       "cell_index": 7
      }
     ]
    },
    "7ae05f23b2c54cf6beb4e4527eb1dbc1": {
     "views": [
      {
       "cell_index": 7
      }
     ]
    },
    "86374f31608046698dd2b8ed34d705f4": {
     "views": [
      {
       "cell_index": 7
      }
     ]
    },
    "874a63f41cf548bead83f71dad57e88c": {
     "views": [
      {
       "cell_index": 7
      }
     ]
    },
    "8a16261f23bc4e3d8197eaa5e29075a8": {
     "views": [
      {
       "cell_index": 7
      }
     ]
    },
    "8c11fdf5cf3447a78b04390523206f35": {
     "views": [
      {
       "cell_index": 7
      }
     ]
    },
    "8c18467252c441768d9f0dc12848912f": {
     "views": [
      {
       "cell_index": 7
      }
     ]
    },
    "8c4a3874d14b452bba87639b2dc46729": {
     "views": [
      {
       "cell_index": 7
      }
     ]
    },
    "8e8522045fc9445baa5952ec81cf89bb": {
     "views": [
      {
       "cell_index": 7
      }
     ]
    },
    "93671ac433d34de5879f4e598f72dd01": {
     "views": [
      {
       "cell_index": 7
      }
     ]
    },
    "94ab8ecb7521479cb1ed2ef1ec1dd066": {
     "views": [
      {
       "cell_index": 7
      }
     ]
    },
    "96aac7f42ce84b2ab06948de147e89bf": {
     "views": [
      {
       "cell_index": 7
      }
     ]
    },
    "98d57e311266461e9c971bbb4c0ddf55": {
     "views": [
      {
       "cell_index": 7
      }
     ]
    },
    "9d4b02cd26b249fb8a4f9cd0fe6a8917": {
     "views": [
      {
       "cell_index": 7
      }
     ]
    },
    "9e34247a6d5049cd89ce73c7c760cfa0": {
     "views": [
      {
       "cell_index": 7
      }
     ]
    },
    "9e9401d19d78494aa650394c212716cd": {
     "views": [
      {
       "cell_index": 7
      }
     ]
    },
    "a2e5870fc0524833ba346d8f91fc2092": {
     "views": [
      {
       "cell_index": 7
      }
     ]
    },
    "a772ee197a154f15ae0be3c9bcc50616": {
     "views": [
      {
       "cell_index": 7
      }
     ]
    },
    "a774cf6fcf8848a1bbacdb99b9d58252": {
     "views": [
      {
       "cell_index": 7
      }
     ]
    },
    "aa7cefd07fb94e89863e1d67e46ee102": {
     "views": [
      {
       "cell_index": 7
      }
     ]
    },
    "ab39f549ad854fcd864f453930b7f8dd": {
     "views": [
      {
       "cell_index": 7
      }
     ]
    },
    "accd4571e57a46f4ac3b64710f0e5926": {
     "views": [
      {
       "cell_index": 7
      }
     ]
    },
    "b0dbd694e6ca483e9caaf6f9c949b55f": {
     "views": [
      {
       "cell_index": 7
      }
     ]
    },
    "b6e17fb37e7948808077e46ecb76d18b": {
     "views": [
      {
       "cell_index": 7
      }
     ]
    },
    "b8523d5e67fa4bd399be7f0b3986b370": {
     "views": [
      {
       "cell_index": 7
      }
     ]
    },
    "b9a1cbaad0144dc0aee871e9cc628732": {
     "views": [
      {
       "cell_index": 7
      }
     ]
    },
    "ba392b03af184de388042248cf6f3b1d": {
     "views": [
      {
       "cell_index": 7
      }
     ]
    },
    "bb77a756ddb54a9fa342c0dbfcd89b7f": {
     "views": [
      {
       "cell_index": 7
      }
     ]
    },
    "bda7d773e22b4ff1b74815339358501d": {
     "views": [
      {
       "cell_index": 7
      }
     ]
    },
    "c0380c10677d44239f97a8c83f3eab0a": {
     "views": [
      {
       "cell_index": 7
      }
     ]
    },
    "c0d3e513aad54baeac51669680c7983c": {
     "views": [
      {
       "cell_index": 7
      }
     ]
    },
    "c3ccb9a4ad954ba099f51ac5184a62a8": {
     "views": [
      {
       "cell_index": 7
      }
     ]
    },
    "c4ff2bb0fd4142c59c2dcd2fa675d36b": {
     "views": [
      {
       "cell_index": 7
      }
     ]
    },
    "c57ce44bc7384f32ba390ff5e2fecd10": {
     "views": [
      {
       "cell_index": 7
      }
     ]
    },
    "c64c5a227ab84dbdab9e4b8f930479e6": {
     "views": [
      {
       "cell_index": 7
      }
     ]
    },
    "c7f4c24f156244a789b49073dc281047": {
     "views": [
      {
       "cell_index": 7
      }
     ]
    },
    "cd37ddcb5c2549df832beb5538be9b90": {
     "views": [
      {
       "cell_index": 7
      }
     ]
    },
    "d35316de9e644eadab64f03fef61d825": {
     "views": [
      {
       "cell_index": 7
      }
     ]
    },
    "d4c7b6fb850b4ee192db5430be62e39c": {
     "views": [
      {
       "cell_index": 7
      }
     ]
    },
    "d6688a67b86342b1a834b50422f36cf5": {
     "views": [
      {
       "cell_index": 7
      }
     ]
    },
    "da226c1fd34643659b88ded92c94e372": {
     "views": [
      {
       "cell_index": 7
      }
     ]
    },
    "ded99cf9038d4f9b91b1693c7a37a6eb": {
     "views": [
      {
       "cell_index": 7
      }
     ]
    },
    "dfd99ad66511478e8641b06cebfa02f8": {
     "views": [
      {
       "cell_index": 7
      }
     ]
    },
    "e110baccb7ad43149455fdd67df02b5f": {
     "views": [
      {
       "cell_index": 7
      }
     ]
    },
    "e7c4ae62f03049c39f2566239069e107": {
     "views": [
      {
       "cell_index": 7
      }
     ]
    },
    "ebc031a8ccb54ae5bddb4c7ec03a81d9": {
     "views": [
      {
       "cell_index": 7
      }
     ]
    },
    "f0d044bdf8aa49ef8a504be4415bddd2": {
     "views": [
      {
       "cell_index": 7
      }
     ]
    },
    "f925b53c7e2442b5a0ab53117099c19f": {
     "views": [
      {
       "cell_index": 7
      }
     ]
    },
    "fb71f86d278c4faca9c314bc4a40c632": {
     "views": [
      {
       "cell_index": 7
      }
     ]
    },
    "fd561ccd613a40aeaa426cf336947ce4": {
     "views": [
      {
       "cell_index": 7
      }
     ]
    },
    "fe77a760e35241aa9d456a460a6e5aaa": {
     "views": [
      {
       "cell_index": 7
      }
     ]
    },
    "ff40090590c047e2b0e7ea1b410e45cd": {
     "views": [
      {
       "cell_index": 7
      }
     ]
    }
   },
   "version": "1.2.0"
  }
 },
 "nbformat": 4,
 "nbformat_minor": 2
}
