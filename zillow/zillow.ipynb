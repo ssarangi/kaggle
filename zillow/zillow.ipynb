{
 "cells": [
  {
   "cell_type": "markdown",
   "metadata": {},
   "source": [
    "# Zillow Home Price Prediction"
   ]
  },
  {
   "cell_type": "code",
   "execution_count": 1,
   "metadata": {
    "collapsed": true
   },
   "outputs": [],
   "source": [
    "import pandas as pd\n",
    "import numpy as np"
   ]
  },
  {
   "cell_type": "code",
   "execution_count": 2,
   "metadata": {
    "collapsed": true
   },
   "outputs": [],
   "source": [
    "properties_file = 'training/properties_2016.csv'\n",
    "train_file = 'training/train_2016.csv'\n",
    "zillow_file = 'training/zillow_data_dictionary.xlsx'"
   ]
  },
  {
   "cell_type": "code",
   "execution_count": null,
   "metadata": {
    "collapsed": false
   },
   "outputs": [
    {
     "name": "stderr",
     "output_type": "stream",
     "text": [
      "/Users/satyajits/anaconda/lib/python3.5/site-packages/IPython/core/interactiveshell.py:2717: DtypeWarning: Columns (49) have mixed types. Specify dtype option on import or set low_memory=False.\n",
      "  interactivity=interactivity, compiler=compiler, result=result)\n"
     ]
    },
    {
     "name": "stdout",
     "output_type": "stream",
     "text": [
      "   parcelid  airconditioningtypeid  architecturalstyletypeid  basementsqft  \\\n",
      "0  10754147                    NaN                       NaN           NaN   \n",
      "1  10759547                    NaN                       NaN           NaN   \n",
      "2  10843547                    NaN                       NaN           NaN   \n",
      "3  10859147                    NaN                       NaN           NaN   \n",
      "4  10879947                    NaN                       NaN           NaN   \n",
      "\n",
      "   bathroomcnt  bedroomcnt  buildingclasstypeid  buildingqualitytypeid  \\\n",
      "0          0.0         0.0                  NaN                    NaN   \n",
      "1          0.0         0.0                  NaN                    NaN   \n",
      "2          0.0         0.0                  NaN                    NaN   \n",
      "3          0.0         0.0                  3.0                    7.0   \n",
      "4          0.0         0.0                  4.0                    NaN   \n",
      "\n",
      "   calculatedbathnbr  decktypeid         ...           numberofstories  \\\n",
      "0                NaN         NaN         ...                       NaN   \n",
      "1                NaN         NaN         ...                       NaN   \n",
      "2                NaN         NaN         ...                       NaN   \n",
      "3                NaN         NaN         ...                       1.0   \n",
      "4                NaN         NaN         ...                       NaN   \n",
      "\n",
      "   fireplaceflag  structuretaxvaluedollarcnt  taxvaluedollarcnt  \\\n",
      "0            NaN                         NaN                9.0   \n",
      "1            NaN                         NaN            27516.0   \n",
      "2            NaN                    650756.0          1413387.0   \n",
      "3            NaN                    571346.0          1156834.0   \n",
      "4            NaN                    193796.0           433491.0   \n",
      "\n",
      "   assessmentyear  landtaxvaluedollarcnt  taxamount  taxdelinquencyflag  \\\n",
      "0            2015                    9.0        NaN                 NaN   \n",
      "1            2015                27516.0        NaN                 NaN   \n",
      "2            2015               762631.0   20800.37                 NaN   \n",
      "3            2015               585488.0   14557.57                 NaN   \n",
      "4            2015               239695.0    5725.17                 NaN   \n",
      "\n",
      "   taxdelinquencyyear  censustractandblock  \n",
      "0                 NaN                  NaN  \n",
      "1                 NaN                  NaN  \n",
      "2                 NaN                  NaN  \n",
      "3                 NaN                  NaN  \n",
      "4                 NaN                  NaN  \n",
      "\n",
      "[5 rows x 58 columns]\n"
     ]
    }
   ],
   "source": [
    "chunksize = 10 ** 2\n",
    "for chunk in pd.read_csv(properties_file, chunksize=chunksize):\n",
    "    print(chunk.head())"
   ]
  },
  {
   "cell_type": "code",
   "execution_count": null,
   "metadata": {
    "collapsed": true
   },
   "outputs": [],
   "source": []
  }
 ],
 "metadata": {
  "anaconda-cloud": {},
  "kernelspec": {
   "display_name": "Python [conda root]",
   "language": "python",
   "name": "conda-root-py"
  },
  "language_info": {
   "codemirror_mode": {
    "name": "ipython",
    "version": 3
   },
   "file_extension": ".py",
   "mimetype": "text/x-python",
   "name": "python",
   "nbconvert_exporter": "python",
   "pygments_lexer": "ipython3",
   "version": "3.5.2"
  }
 },
 "nbformat": 4,
 "nbformat_minor": 2
}
